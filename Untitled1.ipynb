{
  "nbformat": 4,
  "nbformat_minor": 0,
  "metadata": {
    "colab": {
      "provenance": [],
      "authorship_tag": "ABX9TyN5g9F/QmCWUXxjR/7ymdC2",
      "include_colab_link": true
    },
    "kernelspec": {
      "name": "python3",
      "display_name": "Python 3"
    },
    "language_info": {
      "name": "python"
    }
  },
  "cells": [
    {
      "cell_type": "markdown",
      "metadata": {
        "id": "view-in-github",
        "colab_type": "text"
      },
      "source": [
        "<a href=\"https://colab.research.google.com/github/JudithM12/Inteligencia-Artificial-/blob/main/Untitled1.ipynb\" target=\"_parent\"><img src=\"https://colab.research.google.com/assets/colab-badge.svg\" alt=\"Open In Colab\"/></a>"
      ]
    },
    {
      "cell_type": "code",
      "execution_count": 6,
      "metadata": {
        "id": "3dan-m0geKCm"
      },
      "outputs": [],
      "source": [
        "def es_primo(n):\n",
        "    \"\"\"Determina si un número es primo.\"\"\"\n",
        "    if n <= 1:\n",
        "        return False\n",
        "    if n <= 3:\n",
        "        return True\n",
        "    if n % 2 == 0 or n % 3 == 0:\n",
        "        return False\n",
        "    i = 5\n",
        "    while i * i <= n:\n",
        "        if n % i == 0 or n % (i + 2) == 0:\n",
        "            return False\n",
        "        i += 6\n",
        "    return True\n",
        "\n",
        "def mostrar_primos(rango_inicio, rango_fin):\n",
        "    \"\"\"Muestra todos los números primos en el rango dado.\"\"\"\n",
        "    primos = [num for num in range(rango_inicio, rango_fin + 1) if es_primo(num)]\n",
        "    return primos\n",
        "\n",
        "def main():\n",
        "    # Solicitar al usuario el rango de números\n",
        "    while True:\n",
        "        try:\n",
        "            rango_inicio = int(input(\"Ingresa el inicio del rango: \"))\n",
        "            rango_fin = int(input(\"Ingresa el fin del rango: \"))\n",
        "            if rango_inicio > rango_fin:\n",
        "                print(\"El inicio del rango debe ser menor o igual al fin del rango. Inténtalo de nuevo.\")\n",
        "            else:\n",
        "                break\n",
        "        except ValueError:\n",
        "            print(\"Por favor, ingresa números válidos.\")\n",
        "\n",
        "    # Obtener y mostrar los números primos en el rango\n",
        "    primos = mostrar_primos(rango_inicio, rango_fin)\n",
        "    if primos:\n",
        "        print(f\"Números primos en el rango de {rango_inicio} a {rango_fin}: {primos}\")\n",
        "    else:\n",
        "        print(f\"No hay números primos en el rango de {rango_inicio} a {rango_fin}.\")\n",
        "\n",
        "    if _name_ == \"_main_\":\n",
        "      main()"
      ]
    }
  ]
}