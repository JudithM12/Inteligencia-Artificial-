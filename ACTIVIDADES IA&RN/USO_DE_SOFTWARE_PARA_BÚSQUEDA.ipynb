{
  "nbformat": 4,
  "nbformat_minor": 0,
  "metadata": {
    "colab": {
      "provenance": []
    },
    "kernelspec": {
      "name": "python3",
      "display_name": "Python 3"
    },
    "language_info": {
      "name": "python"
    }
  },
  "cells": [
    {
      "cell_type": "markdown",
      "source": [
        "ACTIVIDAD 8/ USO DE SOFTWARE PARA BÚSQUEDA/JUDITH MONTSERRATH SEGURA RODRÍGUEZ/ 2082412/ N1 LMV"
      ],
      "metadata": {
        "id": "CVubacs43vEn"
      }
    },
    {
      "cell_type": "code",
      "source": [
        "# Importación de librerías necesarias\n",
        "import numpy as np\n",
        "import tensorflow as tf\n",
        "from tensorflow.keras.datasets import mnist\n",
        "from tensorflow.keras.models import Sequential\n",
        "from tensorflow.keras.layers import Dense, Flatten\n",
        "from tensorflow.keras.utils import to_categorical\n",
        "\n",
        "# Cargar el conjunto de datos MNIST\n",
        "(train_data, train_labels), (test_data, test_labels) = mnist.load_data()\n",
        "\n",
        "# Preprocesamiento de los datos\n",
        "# Normalización para que los valores estén entre 0 y 1\n",
        "train_data = train_data / 255.0\n",
        "test_data = test_data / 255.0\n",
        "\n",
        "# Convertir las etiquetas a una codificación categórica\n",
        "train_labels = to_categorical(train_labels, 10)\n",
        "test_labels = to_categorical(test_labels, 10)\n",
        "\n",
        "# Crear el modelo de la red neuronal prealimentada\n",
        "model = Sequential()\n",
        "model.add(Flatten(input_shape=(28, 28)))  # Aplanar la entrada 28x28 píxeles a un vector de 784\n",
        "model.add(Dense(128, activation='relu'))  # Capa oculta de 128 neuronas\n",
        "model.add(Dense(64, activation='relu'))   # Capa oculta de 64 neuronas\n",
        "model.add(Dense(10, activation='softmax'))  # Capa de salida con 10 neuronas y activación softmax\n",
        "\n",
        "# Compilación del modelo\n",
        "model.compile(optimizer='adam',  # Optimizador Adam\n",
        "              loss='categorical_crossentropy',  # Función de pérdida\n",
        "              metrics=['accuracy'])  # Métrica de evaluación\n",
        "\n",
        "# Entrenamiento del modelo\n",
        "history = model.fit(train_data, train_labels, epochs=10, batch_size=32, validation_split=0.2)\n",
        "\n",
        "# Evaluación del modelo\n",
        "test_loss, test_accuracy = model.evaluate(test_data, test_labels)\n",
        "print(f\"\\nExactitud del modelo en el conjunto de prueba: {test_accuracy:.2f}\")\n",
        "\n",
        "# Realizar 5 predicciones y mostrar el valor real y la predicción\n",
        "predictions = model.predict(test_data)\n",
        "\n",
        "for i in range(5):\n",
        "    # Obtener la predicción y el valor real\n",
        "    pred_label = np.argmax(predictions[i])\n",
        "    true_label = np.argmax(test_labels[i])\n",
        "    print(f\"Predicción: {pred_label}, Valor real: {true_label}\")"
      ],
      "metadata": {
        "colab": {
          "base_uri": "https://localhost:8080/"
        },
        "id": "MOALRrE24TQ4",
        "outputId": "a25ac5e9-4731-4f35-c0be-b47a4d333384"
      },
      "execution_count": 1,
      "outputs": [
        {
          "output_type": "stream",
          "name": "stdout",
          "text": [
            "Downloading data from https://storage.googleapis.com/tensorflow/tf-keras-datasets/mnist.npz\n",
            "\u001b[1m11490434/11490434\u001b[0m \u001b[32m━━━━━━━━━━━━━━━━━━━━\u001b[0m\u001b[37m\u001b[0m \u001b[1m0s\u001b[0m 0us/step\n"
          ]
        },
        {
          "output_type": "stream",
          "name": "stderr",
          "text": [
            "/usr/local/lib/python3.10/dist-packages/keras/src/layers/reshaping/flatten.py:37: UserWarning: Do not pass an `input_shape`/`input_dim` argument to a layer. When using Sequential models, prefer using an `Input(shape)` object as the first layer in the model instead.\n",
            "  super().__init__(**kwargs)\n"
          ]
        },
        {
          "output_type": "stream",
          "name": "stdout",
          "text": [
            "Epoch 1/10\n",
            "\u001b[1m1500/1500\u001b[0m \u001b[32m━━━━━━━━━━━━━━━━━━━━\u001b[0m\u001b[37m\u001b[0m \u001b[1m12s\u001b[0m 7ms/step - accuracy: 0.8671 - loss: 0.4549 - val_accuracy: 0.9617 - val_loss: 0.1338\n",
            "Epoch 2/10\n",
            "\u001b[1m1500/1500\u001b[0m \u001b[32m━━━━━━━━━━━━━━━━━━━━\u001b[0m\u001b[37m\u001b[0m \u001b[1m8s\u001b[0m 5ms/step - accuracy: 0.9629 - loss: 0.1231 - val_accuracy: 0.9687 - val_loss: 0.1027\n",
            "Epoch 3/10\n",
            "\u001b[1m1500/1500\u001b[0m \u001b[32m━━━━━━━━━━━━━━━━━━━━\u001b[0m\u001b[37m\u001b[0m \u001b[1m7s\u001b[0m 5ms/step - accuracy: 0.9768 - loss: 0.0757 - val_accuracy: 0.9724 - val_loss: 0.0940\n",
            "Epoch 4/10\n",
            "\u001b[1m1500/1500\u001b[0m \u001b[32m━━━━━━━━━━━━━━━━━━━━\u001b[0m\u001b[37m\u001b[0m \u001b[1m10s\u001b[0m 6ms/step - accuracy: 0.9816 - loss: 0.0587 - val_accuracy: 0.9656 - val_loss: 0.1145\n",
            "Epoch 5/10\n",
            "\u001b[1m1500/1500\u001b[0m \u001b[32m━━━━━━━━━━━━━━━━━━━━\u001b[0m\u001b[37m\u001b[0m \u001b[1m11s\u001b[0m 7ms/step - accuracy: 0.9855 - loss: 0.0459 - val_accuracy: 0.9747 - val_loss: 0.0881\n",
            "Epoch 6/10\n",
            "\u001b[1m1500/1500\u001b[0m \u001b[32m━━━━━━━━━━━━━━━━━━━━\u001b[0m\u001b[37m\u001b[0m \u001b[1m11s\u001b[0m 7ms/step - accuracy: 0.9884 - loss: 0.0354 - val_accuracy: 0.9744 - val_loss: 0.0975\n",
            "Epoch 7/10\n",
            "\u001b[1m1500/1500\u001b[0m \u001b[32m━━━━━━━━━━━━━━━━━━━━\u001b[0m\u001b[37m\u001b[0m \u001b[1m15s\u001b[0m 4ms/step - accuracy: 0.9902 - loss: 0.0309 - val_accuracy: 0.9732 - val_loss: 0.1008\n",
            "Epoch 8/10\n",
            "\u001b[1m1500/1500\u001b[0m \u001b[32m━━━━━━━━━━━━━━━━━━━━\u001b[0m\u001b[37m\u001b[0m \u001b[1m12s\u001b[0m 5ms/step - accuracy: 0.9927 - loss: 0.0226 - val_accuracy: 0.9759 - val_loss: 0.0921\n",
            "Epoch 9/10\n",
            "\u001b[1m1500/1500\u001b[0m \u001b[32m━━━━━━━━━━━━━━━━━━━━\u001b[0m\u001b[37m\u001b[0m \u001b[1m6s\u001b[0m 4ms/step - accuracy: 0.9937 - loss: 0.0192 - val_accuracy: 0.9720 - val_loss: 0.1173\n",
            "Epoch 10/10\n",
            "\u001b[1m1500/1500\u001b[0m \u001b[32m━━━━━━━━━━━━━━━━━━━━\u001b[0m\u001b[37m\u001b[0m \u001b[1m7s\u001b[0m 5ms/step - accuracy: 0.9945 - loss: 0.0158 - val_accuracy: 0.9733 - val_loss: 0.1084\n",
            "\u001b[1m313/313\u001b[0m \u001b[32m━━━━━━━━━━━━━━━━━━━━\u001b[0m\u001b[37m\u001b[0m \u001b[1m1s\u001b[0m 2ms/step - accuracy: 0.9694 - loss: 0.1130\n",
            "\n",
            "Exactitud del modelo en el conjunto de prueba: 0.97\n",
            "\u001b[1m313/313\u001b[0m \u001b[32m━━━━━━━━━━━━━━━━━━━━\u001b[0m\u001b[37m\u001b[0m \u001b[1m1s\u001b[0m 2ms/step\n",
            "Predicción: 7, Valor real: 7\n",
            "Predicción: 2, Valor real: 2\n",
            "Predicción: 1, Valor real: 1\n",
            "Predicción: 0, Valor real: 0\n",
            "Predicción: 4, Valor real: 4\n"
          ]
        }
      ]
    }
  ]
}