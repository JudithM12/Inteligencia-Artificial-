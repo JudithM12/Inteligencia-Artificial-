{
  "nbformat": 4,
  "nbformat_minor": 0,
  "metadata": {
    "colab": {
      "provenance": []
    },
    "kernelspec": {
      "name": "python3",
      "display_name": "Python 3"
    },
    "language_info": {
      "name": "python"
    }
  },
  "cells": [
    {
      "cell_type": "markdown",
      "source": [
        "DISEÑO DE ALGORITMOS EN PYTHON/ JUDITH MONTSERRATH SEGURA RODRIGUEZ/2082412/LMV-N1"
      ],
      "metadata": {
        "id": "Z4Fk8kJ6_l_9"
      }
    },
    {
      "cell_type": "markdown",
      "source": [
        "Desarrolla un algoritmo que le pida al usuario por su nombre y que lo salude con su nombre, excepto si se llama “Ana”, “Juan”, y “Pedro”."
      ],
      "metadata": {
        "id": "TQ5m-8wE_6Lm"
      }
    },
    {
      "cell_type": "code",
      "source": [
        "    nombre=input(\"introduce tu nombre:\")\n",
        "    if (nombre!=\"Ana\") and (nombre!=\"Pedro\") and (nombre!=\"Juan\"):\n",
        "     print (\"Hola\"+nombre+\"!\")"
      ],
      "metadata": {
        "colab": {
          "base_uri": "https://localhost:8080/"
        },
        "id": "PA1xwWS6_9Zr",
        "outputId": "7d7ed804-b2d0-45cc-ba19-a6b7cd3fc706"
      },
      "execution_count": 9,
      "outputs": [
        {
          "output_type": "stream",
          "name": "stdout",
          "text": [
            "introduce tu nombre:judith\n",
            "Holajudith!\n"
          ]
        }
      ]
    },
    {
      "cell_type": "markdown",
      "source": [],
      "metadata": {
        "id": "m-1qdU3EAW-N"
      }
    },
    {
      "cell_type": "markdown",
      "source": [
        "Desarrolla un algoritmo que por medio de una función, le pida al usuario una lista de N elementos y como resultado invierta el sentido de la lista."
      ],
      "metadata": {
        "id": "BImvQR0BA2h9"
      }
    },
    {
      "cell_type": "code",
      "source": [
        "x=input(\"introducir dato de la lista \")\n",
        "y=input(\"introduce otro dato a la lista \")\n",
        "z=input(\"introduce otro dato a la lisa \")\n",
        "lista=[x,y,z]\n",
        "lista.reverse()\n",
        "print(lista)"
      ],
      "metadata": {
        "id": "iIW0kwIcBnC4"
      },
      "execution_count": null,
      "outputs": []
    },
    {
      "cell_type": "markdown",
      "source": [
        "Desarrolla un algoritmo que le pregunte al usuario cuántos números de la serie de Fibonacci quiere generar y que al final los imprima."
      ],
      "metadata": {
        "id": "G5ifcBW0BqX8"
      }
    },
    {
      "cell_type": "code",
      "source": [
        "def generar_fibonacci(n):\n",
        "    \"\"\"Genera los primeros n números de la serie de Fibonacci.\"\"\"\n",
        "    fibonacci = []\n",
        "    a, b = 0, 1\n",
        "    for _ in range(n):\n",
        "        fibonacci.append(a)\n",
        "        a, b = b, a + b\n",
        "    return fibonacci\n",
        "\n",
        "def main():\n",
        "    \"\"\"Solicita al usuario la cantidad de números a generar e imprime la serie de Fibonacci.\"\"\"\n",
        "    while True:\n",
        "        try:\n",
        "            cantidad = int(input(\"¿Cuántos números de la serie de Fibonacci deseas generar? \"))\n",
        "            if cantidad <= 0:\n",
        "                print(\"Por favor, ingresa un número entero positivo.\")\n",
        "            else:\n",
        "                fibonacci_series = generar_fibonacci(cantidad)\n",
        "                print(\"Los primeros\", cantidad, \"números de la serie de Fibonacci son:\")\n",
        "                print(fibonacci_series)\n",
        "                break\n",
        "        except ValueError:\n",
        "            print(\"Entrada no válida. Por favor, ingresa un número entero.\")\n",
        "\n",
        "    if _name_ == \"_main_\":\n",
        "      _main_()"
      ],
      "metadata": {
        "id": "k-VOzlAJBsO8"
      },
      "execution_count": 18,
      "outputs": []
    },
    {
      "cell_type": "markdown",
      "source": [
        "Juego de adivinar el número: Crea un programa que genere un número aleatorio entre 1 y 100, y luego le pida al usuario que adivine el número. El programa debe proporcionar pistas al usuario si el número es mayor o menor que el número objetivo, y seguir solicitando un nuevo intento hasta que el usuario adivine correctamente."
      ],
      "metadata": {
        "id": "VT8F3NpICUa5"
      }
    },
    {
      "cell_type": "code",
      "source": [
        "def jugar_adivina_el_numero():\n",
        "    \"\"\"Función principal para el juego de adivinar el número.\"\"\"\n",
        "    # Genera un número aleatorio entre 1 y 100\n",
        "    numero_objetivo = random.randint(1, 100)\n",
        "    intento = None\n",
        "    conteo_intentos = 0\n",
        "\n",
        "    print(\"¡Bienvenido al juego de adivinar el número!\")\n",
        "    print(\"He seleccionado un número entre 1 y 100. Trata de adivinar cuál es.\")\n",
        "\n",
        "    while intento != numero_objetivo:\n",
        "        try:\n",
        "            intento = int(input(\"Introduce tu adivinanza: \"))\n",
        "            conteo_intentos += 1\n",
        "\n",
        "            if intento < numero_objetivo:\n",
        "                print(\"El número es mayor que tu adivinanza.\")\n",
        "            elif intento > numero_objetivo:\n",
        "                print(\"El número es menor que tu adivinanza.\")\n",
        "            else:\n",
        "                print(f\"¡Felicidades! Has adivinado el número {numero_objetivo} en {conteo_intentos} intentos.\")\n",
        "\n",
        "        except ValueError:\n",
        "            print(\"Entrada no válida. Por favor, ingresa un número entero.\")\n",
        "\n",
        "    if _name_ == \"_main_\":\n",
        "      jugar_adivina_el_numero()"
      ],
      "metadata": {
        "id": "inSIxPJVCXpF"
      },
      "execution_count": 19,
      "outputs": []
    },
    {
      "cell_type": "markdown",
      "source": [
        "Ejercicio de cálculo de números primos en un rango dado: Escribe un programa que solicite al usuario un rango de números y muestre todos los números primos dentro de ese rango."
      ],
      "metadata": {
        "id": "sG3ku7p2CrzW"
      }
    },
    {
      "cell_type": "code",
      "source": [
        "def es_primo(n):\n",
        "    \"\"\"Determina si un número es primo.\"\"\"\n",
        "    if n <= 1:\n",
        "        return False\n",
        "    if n <= 3:\n",
        "        return True\n",
        "    if n % 2 == 0 or n % 3 == 0:\n",
        "        return False\n",
        "    i = 5\n",
        "    while i * i <= n:\n",
        "        if n % i == 0 or n % (i + 2) == 0:\n",
        "            return False\n",
        "        i += 6\n",
        "    return True\n",
        "\n",
        "def mostrar_primos(rango_inicio, rango_fin):\n",
        "    \"\"\"Muestra todos los números primos en el rango dado.\"\"\"\n",
        "    primos = [num for num in range(rango_inicio, rango_fin + 1) if es_primo(num)]\n",
        "    return primos\n",
        "\n",
        "def main():\n",
        "    # Solicitar al usuario el rango de números\n",
        "    while True:\n",
        "        try:\n",
        "            rango_inicio = int(input(\"Ingresa el inicio del rango: \"))\n",
        "            rango_fin = int(input(\"Ingresa el fin del rango: \"))\n",
        "            if rango_inicio > rango_fin:\n",
        "                print(\"El inicio del rango debe ser menor o igual al fin del rango. Inténtalo de nuevo.\")\n",
        "            else:\n",
        "                break\n",
        "        except ValueError:\n",
        "            print(\"Por favor, ingresa números válidos.\")\n",
        "\n",
        "    # Obtener y mostrar los números primos en el rango\n",
        "    primos = mostrar_primos(rango_inicio, rango_fin)\n",
        "    if primos:\n",
        "        print(f\"Números primos en el rango de {rango_inicio} a {rango_fin}: {primos}\")\n",
        "    else:\n",
        "        print(f\"No hay números primos en el rango de {rango_inicio} a {rango_fin}.\")\n",
        "\n",
        "    if name == \"main\":\n",
        "      main()"
      ],
      "metadata": {
        "id": "w9pkyU0JCvFO"
      },
      "execution_count": 20,
      "outputs": []
    },
    {
      "cell_type": "markdown",
      "source": [
        "Ejercicio de implementación de una calculadora básica utilizando funciones: Escribe un programa que solicite al usuario dos números y realice operaciones básicas como suma, resta, multiplicación y división utilizando funciones separadas para cada operación."
      ],
      "metadata": {
        "id": "zXFlMiv1C6y6"
      }
    },
    {
      "cell_type": "code",
      "source": [
        "\"\"\"Escribe un programa a que solicite al usuario dos numeros y realice operaciones basicas como suma, resta, multiplicacion y division\"\"\"\n",
        "a= int(input(\"Primer numero: \"))\n",
        "b= int(input(\"Segundo numero: \"))\n",
        "s= a + b\n",
        "r= a - b\n",
        "m= a * b\n",
        "d= a / b\n",
        "print (\"La suma es:\", s)\n",
        "print (\"La resta es:\", r)\n",
        "print (\"El producto es:\", m)\n",
        "print (\"El cociente es:\",d)"
      ],
      "metadata": {
        "id": "kp-V4iw_C-D0"
      },
      "execution_count": null,
      "outputs": []
    }
  ]
}